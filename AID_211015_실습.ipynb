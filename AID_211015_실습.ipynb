{
  "nbformat": 4,
  "nbformat_minor": 0,
  "metadata": {
    "colab": {
      "name": "AID_211015_실습.ipynb",
      "provenance": [],
      "collapsed_sections": [],
      "authorship_tag": "ABX9TyMc9VYhCxkE51CGOFv7a1p7",
      "include_colab_link": true
    },
    "kernelspec": {
      "name": "python3",
      "display_name": "Python 3"
    },
    "language_info": {
      "name": "python"
    }
  },
  "cells": [
    {
      "cell_type": "markdown",
      "metadata": {
        "id": "view-in-github",
        "colab_type": "text"
      },
      "source": [
        "<a href=\"https://colab.research.google.com/github/jiunny/AID/blob/main/AID_211015_%EC%8B%A4%EC%8A%B5.ipynb\" target=\"_parent\"><img src=\"https://colab.research.google.com/assets/colab-badge.svg\" alt=\"Open In Colab\"/></a>"
      ]
    },
    {
      "cell_type": "markdown",
      "metadata": {
        "id": "oEUa-kLq-P6m"
      },
      "source": [
        "# 실습 1\n",
        "## 1. 다음의 의사결정 규칙을 결정 트리로 표현하여 보시오.\n",
        "\n",
        "- 날씨가 흐리면 집안에 있는다.\n",
        "- 날씨가 맑고 기온이 25도 미만인 경우는 등산을 한다.\n",
        "- 날씨가 맑고 기온이 25도 이상이면 수영을 하고 30도가 넘으면 영화를 본다.\n"
      ]
    },
    {
      "cell_type": "markdown",
      "metadata": {
        "id": "jiO_1GLDXPoJ"
      },
      "source": [
        ""
      ]
    },
    {
      "cell_type": "markdown",
      "metadata": {
        "id": "DZSU8vEh_GzE"
      },
      "source": [
        "## 2. 낙태 후 불임 가능성을 진단하는 classsification 모델을 작성하고 테스트 하시오."
      ]
    },
    {
      "cell_type": "code",
      "metadata": {
        "colab": {
          "base_uri": "https://localhost:8080/"
        },
        "id": "UbxNeLXRy6ww",
        "outputId": "b6efe8a5-cddb-4cdf-eed6-2596fed79658"
      },
      "source": [
        "# Load module\n",
        "!pip install pydataset\n",
        "from pydataset import data"
      ],
      "execution_count": null,
      "outputs": [
        {
          "output_type": "stream",
          "name": "stdout",
          "text": [
            "Collecting pydataset\n",
            "  Downloading pydataset-0.2.0.tar.gz (15.9 MB)\n",
            "\u001b[K     |████████████████████████████████| 15.9 MB 119 kB/s \n",
            "\u001b[?25hRequirement already satisfied: pandas in /usr/local/lib/python3.7/dist-packages (from pydataset) (1.1.5)\n",
            "Requirement already satisfied: python-dateutil>=2.7.3 in /usr/local/lib/python3.7/dist-packages (from pandas->pydataset) (2.8.2)\n",
            "Requirement already satisfied: pytz>=2017.2 in /usr/local/lib/python3.7/dist-packages (from pandas->pydataset) (2018.9)\n",
            "Requirement already satisfied: numpy>=1.15.4 in /usr/local/lib/python3.7/dist-packages (from pandas->pydataset) (1.19.5)\n",
            "Requirement already satisfied: six>=1.5 in /usr/local/lib/python3.7/dist-packages (from python-dateutil>=2.7.3->pandas->pydataset) (1.15.0)\n",
            "Building wheels for collected packages: pydataset\n",
            "  Building wheel for pydataset (setup.py) ... \u001b[?25l\u001b[?25hdone\n",
            "  Created wheel for pydataset: filename=pydataset-0.2.0-py3-none-any.whl size=15939430 sha256=7dd245a78cc8bd329efa9086aa65d7581dcf1ec759e86f6fe6d06e93015895fe\n",
            "  Stored in directory: /root/.cache/pip/wheels/32/26/30/d71562a19eed948eaada9a61b4d722fa358657a3bfb5d151e2\n",
            "Successfully built pydataset\n",
            "Installing collected packages: pydataset\n",
            "Successfully installed pydataset-0.2.0\n",
            "initiated datasets repo at: /root/.pydataset/\n"
          ]
        }
      ]
    },
    {
      "cell_type": "code",
      "metadata": {
        "colab": {
          "base_uri": "https://localhost:8080/"
        },
        "id": "LRsTtHGq4540",
        "outputId": "f9bc3efb-6469-4bd7-ebd1-80ba0b517633"
      },
      "source": [
        "# Load dataset\n",
        "data('infert', show_doc=True)  # 데이터 설명보기\n",
        "data = data('infert')"
      ],
      "execution_count": null,
      "outputs": [
        {
          "output_type": "stream",
          "name": "stdout",
          "text": [
            "infert\n",
            "\n",
            "PyDataset Documentation (adopted from R Documentation. The displayed examples are in R)\n",
            "\n",
            "## Infertility after Spontaneous and Induced Abortion\n",
            "\n",
            "### Description\n",
            "\n",
            "This is a matched case-control study dating from before the availability of\n",
            "conditional logistic regression.\n",
            "\n",
            "### Usage\n",
            "\n",
            "    infert\n",
            "\n",
            "### Format\n",
            "\n",
            "1\\.\n",
            "\n",
            "Education\n",
            "\n",
            "0 = 0-5 years\n",
            "\n",
            "1 = 6-11 years\n",
            "\n",
            "2 = 12+ years\n",
            "\n",
            "2\\.\n",
            "\n",
            "age\n",
            "\n",
            "age in years of case\n",
            "\n",
            "3\\.\n",
            "\n",
            "parity\n",
            "\n",
            "count\n",
            "\n",
            "4\\.\n",
            "\n",
            "number of prior\n",
            "\n",
            "0 = 0\n",
            "\n",
            "induced abortions\n",
            "\n",
            "1 = 1\n",
            "\n",
            "2 = 2 or more\n",
            "\n",
            "5\\.\n",
            "\n",
            "case status\n",
            "\n",
            "1 = case\n",
            "\n",
            "0 = control\n",
            "\n",
            "6\\.\n",
            "\n",
            "number of prior\n",
            "\n",
            "0 = 0\n",
            "\n",
            "spontaneous abortions\n",
            "\n",
            "1 = 1\n",
            "\n",
            "2 = 2 or more\n",
            "\n",
            "7\\.\n",
            "\n",
            "matched set number\n",
            "\n",
            "1-83\n",
            "\n",
            "8\\.\n",
            "\n",
            "stratum number\n",
            "\n",
            "1-63\n",
            "\n",
            "### Note\n",
            "\n",
            "One case with two prior spontaneous abortions and two prior induced abortions\n",
            "is omitted.\n",
            "\n",
            "### Source\n",
            "\n",
            "Trichopoulos _et al_ (1976) _Br. J. of Obst. and Gynaec._ **83**, 645–650.\n",
            "\n",
            "### Examples\n",
            "\n",
            "    require(stats)\n",
            "    model1 <- glm(case ~ spontaneous+induced, data = infert, family = binomial())\n",
            "    summary(model1)\n",
            "    ## adjusted for other potential confounders:\n",
            "    summary(model2 <- glm(case ~ age+parity+education+spontaneous+induced,\n",
            "                         data = infert, family = binomial()))\n",
            "    ## Really should be analysed by conditional logistic regression\n",
            "    ## which is in the survival package\n",
            "    if(require(survival)){\n",
            "      model3 <- clogit(case ~ spontaneous+induced+strata(stratum), data = infert)\n",
            "      print(summary(model3))\n",
            "      detach()  # survival (conflicts)\n",
            "    }\n",
            "\n",
            "\n"
          ]
        }
      ]
    },
    {
      "cell_type": "markdown",
      "metadata": {
        "id": "Geidrl2mC0-O"
      },
      "source": [
        "## 3. 데이터셋에 대해 결정트리 모델을 만들고, 다음의 안내를 따라 feature selection 및 parameter tuning을 하시오. (dry_bean.csv)"
      ]
    },
    {
      "cell_type": "code",
      "metadata": {
        "id": "cgtthlJYuhgj"
      },
      "source": [
        "# Load module\n",
        "import pandas as pd "
      ],
      "execution_count": null,
      "outputs": []
    },
    {
      "cell_type": "code",
      "metadata": {
        "id": "hxD0bFN86tRS"
      },
      "source": [
        "# Load data\n",
        "data = pd.read_csv('/content/dry_bean.csv')"
      ],
      "execution_count": null,
      "outputs": []
    },
    {
      "cell_type": "markdown",
      "metadata": {
        "id": "16I8OJ7ZSTZ1"
      },
      "source": [
        "## 4. unit31_1.py 를 참조하여, 제공된 데이터셋에 대해 simple voting 방법으로 다음 안내에 따라 모델을 만들고 성능을 평가하시오."
      ]
    },
    {
      "cell_type": "markdown",
      "metadata": {
        "id": "GfEBE4CCT2Td"
      },
      "source": [
        "# 실습 2\n",
        "## 1. 제공된 데이터셋에 대해 분류(classification) 모델을 만들고 성능을 평가 하시오."
      ]
    },
    {
      "cell_type": "code",
      "metadata": {
        "id": "mzMep3SHV63x"
      },
      "source": [
        "# Load module\n",
        "from sklearn.datasets import load_breast_cancer"
      ],
      "execution_count": null,
      "outputs": []
    },
    {
      "cell_type": "code",
      "metadata": {
        "colab": {
          "base_uri": "https://localhost:8080/"
        },
        "id": "AUV1HX1Rl92z",
        "outputId": "6ad6e4f4-56d7-498b-94fd-4a3657f341e5"
      },
      "source": [
        "# Load data\n",
        "X, y = load_breast_cancer(return_X_y=True)\n",
        "print(X.shape)       # (569, 30)"
      ],
      "execution_count": null,
      "outputs": [
        {
          "output_type": "stream",
          "name": "stdout",
          "text": [
            "(569, 30)\n"
          ]
        }
      ]
    },
    {
      "cell_type": "code",
      "metadata": {
        "colab": {
          "base_uri": "https://localhost:8080/"
        },
        "id": "FJtZbQGVXbt5",
        "outputId": "b9de576b-233b-4470-b3d1-d800b3e2ce81"
      },
      "source": [
        "# Q3 : 각 모델들에 대해 chi2를 이용하여 적절한 변수를 선택하고 각 모델의 성능을 평가하시오.\n",
        "\n",
        "# knn"
      ],
      "execution_count": null,
      "outputs": [
        {
          "output_type": "stream",
          "name": "stdout",
          "text": [
            "2 Mean Accuracy: 0.924406148113647\n",
            "3 Mean Accuracy: 0.9262071106970968\n",
            "4 Mean Accuracy: 0.9367955286446203\n",
            "5 Mean Accuracy: 0.9350256171401956\n",
            "6 Mean Accuracy: 0.9280080732805466\n",
            "7 Mean Accuracy: 0.9315168452103709\n",
            "8 Mean Accuracy: 0.9209905294208973\n",
            "9 Mean Accuracy: 0.9262381617761216\n",
            "10 Mean Accuracy: 0.929762459245459\n",
            "11 Mean Accuracy: 0.9455364073901567\n",
            "12 Mean Accuracy: 0.9473218444340941\n",
            "13 Mean Accuracy: 0.947290793355069\n",
            "14 Mean Accuracy: 0.9543393882937432\n",
            "15 Mean Accuracy: 0.9578326346840551\n",
            "16 Mean Accuracy: 0.9578326346840551\n",
            "17 Mean Accuracy: 0.9560627231796305\n",
            "18 Mean Accuracy: 0.9543238627542306\n",
            "19 Mean Accuracy: 0.9578326346840551\n",
            "20 Mean Accuracy: 0.9648657040832168\n",
            "21 Mean Accuracy: 0.968390001552554\n",
            "22 Mean Accuracy: 0.9718832479428661\n",
            "23 Mean Accuracy: 0.968390001552554\n",
            "24 Mean Accuracy: 0.9701288619779538\n",
            "25 Mean Accuracy: 0.9754075454122031\n",
            "26 Mean Accuracy: 0.9701288619779538\n",
            "27 Mean Accuracy: 0.971883247942866\n",
            "28 Mean Accuracy: 0.9683744760130415\n",
            "29 Mean Accuracy: 0.9701288619779538\n",
            "30 Mean Accuracy: 0.9648501785437045\n"
          ]
        }
      ]
    }
  ]
}